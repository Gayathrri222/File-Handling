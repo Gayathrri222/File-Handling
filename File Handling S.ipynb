{
 "cells": [
  {
   "cell_type": "markdown",
   "id": "7f29cc3e",
   "metadata": {},
   "source": [
    "### File Handling"
   ]
  },
  {
   "cell_type": "raw",
   "id": "338954ce",
   "metadata": {},
   "source": [
    "File Handling means creating the text files or accessing the text from the files \n",
    "\n",
    "1 . 'w' -> write \n",
    "2 . 'r' -> read\n",
    "3 . 'a' -> append\n",
    "4 . readline() -> accesing one part of the data \n",
    "5 . readlines() -> accessing complete part of the data \n",
    "6 . 'with'  -> predefined function "
   ]
  },
  {
   "cell_type": "markdown",
   "id": "62bd9bee",
   "metadata": {},
   "source": [
    "### w write"
   ]
  },
  {
   "cell_type": "code",
   "execution_count": 2,
   "id": "cf2da079",
   "metadata": {},
   "outputs": [],
   "source": [
    "a = open('C:/Users/Laven/OneDrive/Desktop//Gayathri.txt','w')\n",
    "a.write('I am Gayathri from Hyderabad')\n",
    "a.close()"
   ]
  },
  {
   "cell_type": "markdown",
   "id": "b6f49e30",
   "metadata": {},
   "source": [
    "### r -read"
   ]
  },
  {
   "cell_type": "code",
   "execution_count": 3,
   "id": "4923c948",
   "metadata": {},
   "outputs": [
    {
     "name": "stdout",
     "output_type": "stream",
     "text": [
      "I am Gayathri from Hyderabad\n"
     ]
    }
   ],
   "source": [
    "a = open('C:/Users/Laven/OneDrive/Desktop//Gayathri.txt','r')\n",
    "print(a.read())\n",
    "a.close()"
   ]
  },
  {
   "cell_type": "markdown",
   "id": "270618c8",
   "metadata": {},
   "source": [
    "### read line"
   ]
  },
  {
   "cell_type": "code",
   "execution_count": 4,
   "id": "17347811",
   "metadata": {},
   "outputs": [],
   "source": [
    "a = open('C:/Users/Laven/OneDrive/Desktop//Gayathri.txt','w')\n",
    "a.write(\"\"\"Python tutorial provides basic and advanced concepts of Python. Our Python tutorial is designed for beginners and professionals.\n",
    "\n",
    "Python is a simple, general purpose, high level, and object-oriented programming language.\n",
    "\n",
    "Python is an interpreted scripting language also. Guido Van Rossum is known as the founder of Python programming.\"\"\")\n",
    "a.close()"
   ]
  },
  {
   "cell_type": "code",
   "execution_count": 5,
   "id": "6e6f5e4b",
   "metadata": {},
   "outputs": [
    {
     "name": "stdout",
     "output_type": "stream",
     "text": [
      "Python tutorial provides basic and advanced concepts of Python. Our Python tutorial is designed for beginners and professionals.\n",
      "\n",
      "Python is a simple, general purpose, high level, and object-oriented programming language.\n",
      "\n",
      "Python is an interpreted scripting language also. Guido Van Rossum is known as the founder of Python programming.\n"
     ]
    }
   ],
   "source": [
    "a = open('C:/Users/Laven/OneDrive/Desktop//Gayathri.txt','r')\n",
    "print(a.read())\n",
    "a.close()"
   ]
  },
  {
   "cell_type": "code",
   "execution_count": 6,
   "id": "bfb90c46",
   "metadata": {},
   "outputs": [
    {
     "name": "stdout",
     "output_type": "stream",
     "text": [
      "Python tutorial provides basic and advanced concepts of Python. Our Python tutorial is designed for beginners and professionals.\n",
      "\n"
     ]
    }
   ],
   "source": [
    "a = open('C:/Users/Laven/OneDrive/Desktop//Gayathri.txt','r')\n",
    "print(a.readline())\n",
    "a.close()"
   ]
  },
  {
   "cell_type": "markdown",
   "id": "921a4d29",
   "metadata": {},
   "source": [
    "### readlines "
   ]
  },
  {
   "cell_type": "code",
   "execution_count": 7,
   "id": "571b083f",
   "metadata": {},
   "outputs": [],
   "source": [
    "a = open('C:/Users/Laven/OneDrive/Desktop//Gayathri.txt','w')\n",
    "a.write(\"\"\"Python tutorial provides basic and advanced concepts of Python. Our Python tutorial is designed for beginners and professionals.\n",
    "\n",
    "Python is a simple, general purpose, high level, and object-oriented programming language.\n",
    "\n",
    "Python is an interpreted scripting language also. Guido Van Rossum is known as the founder of Python programming.\"\"\")\n",
    "\n",
    "a.close()"
   ]
  },
  {
   "cell_type": "markdown",
   "id": "f1afadc7",
   "metadata": {},
   "source": [
    "### With"
   ]
  },
  {
   "cell_type": "code",
   "execution_count": 8,
   "id": "aecb40f1",
   "metadata": {},
   "outputs": [],
   "source": [
    "with open('C:/Users/Laven/OneDrive/Desktop//Gayathri.txt','w')as f:\n",
    "    f.write('With function File Handling')\n",
    "    f.close()"
   ]
  },
  {
   "cell_type": "code",
   "execution_count": 11,
   "id": "6ad79a71",
   "metadata": {},
   "outputs": [
    {
     "name": "stdout",
     "output_type": "stream",
     "text": [
      "With function File Handling\n"
     ]
    }
   ],
   "source": [
    "with open('C:/Users/Laven/OneDrive/Desktop//Gayathri.txt','r')as f:\n",
    "     print(f.read())\n",
    "     f.close()"
   ]
  },
  {
   "cell_type": "code",
   "execution_count": 12,
   "id": "8ea39637",
   "metadata": {},
   "outputs": [],
   "source": [
    "with open('C:/Users/Laven/OneDrive/Desktop//Gayathri.txt','w')as f:\n",
    "    f.write(\"\"\"Python tutorial provides basic and advanced concepts of Python. Our Python tutorial is designed for beginners and professionals.\n",
    "\n",
    "Python is a simple, general purpose, high level, and object-oriented programming language\"\"\")\n",
    "    f.close()"
   ]
  },
  {
   "cell_type": "code",
   "execution_count": 13,
   "id": "d9aeedc4",
   "metadata": {},
   "outputs": [
    {
     "name": "stdout",
     "output_type": "stream",
     "text": [
      "Python tutorial provides basic and advanced concepts of Python. Our Python tutorial is designed for beginners and professionals.\n",
      "\n",
      "Python is a simple, general purpose, high level, and object-oriented programming language\n"
     ]
    }
   ],
   "source": [
    "with open('C:/Users/Laven/OneDrive/Desktop//Gayathri.txt','r')as f:\n",
    "    print(f.read())\n",
    "    f.close()"
   ]
  },
  {
   "cell_type": "code",
   "execution_count": 14,
   "id": "98c11424",
   "metadata": {},
   "outputs": [
    {
     "name": "stdout",
     "output_type": "stream",
     "text": [
      "Python tutorial provides basic and advanced concepts of Python. Our Python tutorial is designed for beginners and professionals.\n",
      "\n"
     ]
    }
   ],
   "source": [
    "with open('C:/Users/Laven/OneDrive/Desktop//Gayathri.txt','r')as f:\n",
    "    print(f.readline())\n",
    "    f.close()"
   ]
  },
  {
   "cell_type": "code",
   "execution_count": 15,
   "id": "63533a57",
   "metadata": {},
   "outputs": [
    {
     "name": "stdout",
     "output_type": "stream",
     "text": [
      "['Python tutorial provides basic and advanced concepts of Python. Our Python tutorial is designed for beginners and professionals.\\n', '\\n', 'Python is a simple, general purpose, high level, and object-oriented programming language']\n"
     ]
    }
   ],
   "source": [
    "with open('C:/Users/Laven/OneDrive/Desktop//Gayathri.txt','r')as f:\n",
    "    print(f.readlines())\n",
    "    f.close()"
   ]
  },
  {
   "cell_type": "code",
   "execution_count": 16,
   "id": "648db7a7",
   "metadata": {},
   "outputs": [],
   "source": [
    "import os"
   ]
  },
  {
   "cell_type": "code",
   "execution_count": 18,
   "id": "6ab671c1",
   "metadata": {},
   "outputs": [],
   "source": [
    "os.rename('C:/Users/Laven/OneDrive/Desktop//Gayathri.txt','C:/Users/Laven/OneDrive/Desktop//Gayathri.txt')"
   ]
  },
  {
   "cell_type": "code",
   "execution_count": null,
   "id": "723677ed",
   "metadata": {},
   "outputs": [],
   "source": []
  }
 ],
 "metadata": {
  "kernelspec": {
   "display_name": "Python 3 (ipykernel)",
   "language": "python",
   "name": "python3"
  },
  "language_info": {
   "codemirror_mode": {
    "name": "ipython",
    "version": 3
   },
   "file_extension": ".py",
   "mimetype": "text/x-python",
   "name": "python",
   "nbconvert_exporter": "python",
   "pygments_lexer": "ipython3",
   "version": "3.9.16"
  }
 },
 "nbformat": 4,
 "nbformat_minor": 5
}
